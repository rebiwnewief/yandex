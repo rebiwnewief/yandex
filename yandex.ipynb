{
 "cells": [
  {
   "cell_type": "code",
   "execution_count": 1,
   "metadata": {},
   "outputs": [],
   "source": [
    "import pandas as pd\n",
    "import numpy as np\n",
    "#import seaborn as sns\n",
    "#import pickle\n",
    "#import os\n",
    "#import matplotlib.pyplot as plt\n",
    "#import math as mp\n",
    "#from sklearn.ensemble import RandomForestClassifier\n",
    "from sklearn.model_selection import train_test_split\n",
    "from sklearn.metrics import accuracy_score, precision_score, recall_score, f1_score"
   ]
  },
  {
   "cell_type": "code",
   "execution_count": 2,
   "metadata": {},
   "outputs": [],
   "source": [
    "from sklearn.metrics import make_scorer\n",
    "\n",
    "def find_threshold_for_efficiency(a, e, w):\n",
    "    if e < 0 or e > 1:\n",
    "        raise ValueError(\"Efficiency e must be in [0, 1]\")\n",
    "    # Decreasing order\n",
    "    idx = np.argsort(a)[::-1]\n",
    "    a_sort = a[idx]\n",
    "    if w is None:\n",
    "        w = np.ones(a.shape)\n",
    "    w_sort = w[idx]\n",
    "    ecdf = np.cumsum(w_sort)\n",
    "    if (ecdf[-1]) <= 0:\n",
    "        raise ValueError(\"Total weight is < 0\")\n",
    "\n",
    "    target_weight_above_threshold = e * ecdf[-1]\n",
    "    enough_passing = ecdf >= target_weight_above_threshold\n",
    "    first_suitable = np.argmax(enough_passing)\n",
    "    last_unsuitable_inv = np.argmin(enough_passing[::-1])\n",
    "    if last_unsuitable_inv == 0:\n",
    "        raise ValueError(\"Bug in code\")\n",
    "    last_unsuitable_plus = len(a) - last_unsuitable_inv\n",
    "    return 0.5*(a_sort[first_suitable] + a_sort[last_unsuitable_plus])\n",
    "\n",
    "\n",
    "def get_rejection_at_efficiency_raw(\n",
    "        labels, predictions, weights, quantile):\n",
    "    signal_mask = (labels >= 1)\n",
    "    background_mask = ~signal_mask\n",
    "    if weights is None:\n",
    "        signal_weights = None\n",
    "    else:\n",
    "        signal_weights = weights[signal_mask]\n",
    "    threshold = find_threshold_for_efficiency(predictions[signal_mask], \n",
    "                                              quantile, signal_weights)\n",
    "    rejected_indices = (predictions[background_mask] < threshold)\n",
    "    if weights is not None:\n",
    "        rejected_background = weights[background_mask][rejected_indices].sum()\n",
    "        weights_sum = np.sum(weights[background_mask])\n",
    "    else:\n",
    "        rejected_background = rejected_indices.sum()\n",
    "        weights_sum = np.sum(background_mask)\n",
    "    return rejected_background, weights_sum         \n",
    "\n",
    "\n",
    "def get_rejection_at_efficiency(labels, predictions, threshold, sample_weight=None):\n",
    "    rejected_background, weights_sum = get_rejection_at_efficiency_raw(\n",
    "        labels, predictions, sample_weight, threshold)\n",
    "    return rejected_background / weights_sum\n",
    "\n",
    "\n",
    "def rejection90(labels, predictions, sample_weight=None):\n",
    "    return get_rejection_at_efficiency(labels, predictions, 0.9, sample_weight=sample_weight)\n",
    "\n",
    "\n",
    "rejection90_sklearn = make_scorer(\n",
    "get_rejection_at_efficiency, needs_threshold=True, threshold=0.9)"
   ]
  },
  {
   "cell_type": "code",
   "execution_count": 2,
   "metadata": {},
   "outputs": [
    {
     "name": "stdout",
     "output_type": "stream",
     "text": [
      "CPU times: user 1min 1s, sys: 7.19 s, total: 1min 8s\n",
      "Wall time: 1min 16s\n"
     ]
    }
   ],
   "source": [
    "%%time\n",
    "df = pd.read_csv('train_part_1_v2.csv')\n",
    "#df = df[:int(len(df)/2)]\n",
    "df = df.replace(-9999, pd.np.nan)\n",
    "df = df.dropna(how = 'any')\n",
    "#df = pd.read_csv('qwerty.csv')"
   ]
  },
  {
   "cell_type": "code",
   "execution_count": 4,
   "metadata": {},
   "outputs": [
    {
     "ename": "MemoryError",
     "evalue": "",
     "output_type": "error",
     "traceback": [
      "\u001b[0;31m---------------------------------------------------------------------------\u001b[0m",
      "\u001b[0;31mMemoryError\u001b[0m                               Traceback (most recent call last)",
      "\u001b[0;32m<ipython-input-4-94c130907e3d>\u001b[0m in \u001b[0;36m<module>\u001b[0;34m\u001b[0m\n\u001b[0;32m----> 1\u001b[0;31m \u001b[0mdf\u001b[0m\u001b[0;34m.\u001b[0m\u001b[0mcolumns\u001b[0m\u001b[0;34m[\u001b[0m\u001b[0mdf\u001b[0m\u001b[0;34m.\u001b[0m\u001b[0mnunique\u001b[0m\u001b[0;34m(\u001b[0m\u001b[0;34m)\u001b[0m \u001b[0;34m==\u001b[0m \u001b[0;36m1\u001b[0m\u001b[0;34m]\u001b[0m\u001b[0;34m\u001b[0m\u001b[0;34m\u001b[0m\u001b[0m\n\u001b[0m",
      "\u001b[0;32m~/.local/lib/python3.6/site-packages/pandas/core/frame.py\u001b[0m in \u001b[0;36mnunique\u001b[0;34m(self, axis, dropna)\u001b[0m\n\u001b[1;32m   6971\u001b[0m         \u001b[0;36m2\u001b[0m    \u001b[0;36m2\u001b[0m\u001b[0;34m\u001b[0m\u001b[0;34m\u001b[0m\u001b[0m\n\u001b[1;32m   6972\u001b[0m         \"\"\"\n\u001b[0;32m-> 6973\u001b[0;31m         \u001b[0;32mreturn\u001b[0m \u001b[0mself\u001b[0m\u001b[0;34m.\u001b[0m\u001b[0mapply\u001b[0m\u001b[0;34m(\u001b[0m\u001b[0mSeries\u001b[0m\u001b[0;34m.\u001b[0m\u001b[0mnunique\u001b[0m\u001b[0;34m,\u001b[0m \u001b[0maxis\u001b[0m\u001b[0;34m=\u001b[0m\u001b[0maxis\u001b[0m\u001b[0;34m,\u001b[0m \u001b[0mdropna\u001b[0m\u001b[0;34m=\u001b[0m\u001b[0mdropna\u001b[0m\u001b[0;34m)\u001b[0m\u001b[0;34m\u001b[0m\u001b[0;34m\u001b[0m\u001b[0m\n\u001b[0m\u001b[1;32m   6974\u001b[0m \u001b[0;34m\u001b[0m\u001b[0m\n\u001b[1;32m   6975\u001b[0m     \u001b[0;32mdef\u001b[0m \u001b[0midxmin\u001b[0m\u001b[0;34m(\u001b[0m\u001b[0mself\u001b[0m\u001b[0;34m,\u001b[0m \u001b[0maxis\u001b[0m\u001b[0;34m=\u001b[0m\u001b[0;36m0\u001b[0m\u001b[0;34m,\u001b[0m \u001b[0mskipna\u001b[0m\u001b[0;34m=\u001b[0m\u001b[0;32mTrue\u001b[0m\u001b[0;34m)\u001b[0m\u001b[0;34m:\u001b[0m\u001b[0;34m\u001b[0m\u001b[0;34m\u001b[0m\u001b[0m\n",
      "\u001b[0;32m~/.local/lib/python3.6/site-packages/pandas/core/frame.py\u001b[0m in \u001b[0;36mapply\u001b[0;34m(self, func, axis, broadcast, raw, reduce, result_type, args, **kwds)\u001b[0m\n\u001b[1;32m   6012\u001b[0m                          \u001b[0margs\u001b[0m\u001b[0;34m=\u001b[0m\u001b[0margs\u001b[0m\u001b[0;34m,\u001b[0m\u001b[0;34m\u001b[0m\u001b[0;34m\u001b[0m\u001b[0m\n\u001b[1;32m   6013\u001b[0m                          kwds=kwds)\n\u001b[0;32m-> 6014\u001b[0;31m         \u001b[0;32mreturn\u001b[0m \u001b[0mop\u001b[0m\u001b[0;34m.\u001b[0m\u001b[0mget_result\u001b[0m\u001b[0;34m(\u001b[0m\u001b[0;34m)\u001b[0m\u001b[0;34m\u001b[0m\u001b[0;34m\u001b[0m\u001b[0m\n\u001b[0m\u001b[1;32m   6015\u001b[0m \u001b[0;34m\u001b[0m\u001b[0m\n\u001b[1;32m   6016\u001b[0m     \u001b[0;32mdef\u001b[0m \u001b[0mapplymap\u001b[0m\u001b[0;34m(\u001b[0m\u001b[0mself\u001b[0m\u001b[0;34m,\u001b[0m \u001b[0mfunc\u001b[0m\u001b[0;34m)\u001b[0m\u001b[0;34m:\u001b[0m\u001b[0;34m\u001b[0m\u001b[0;34m\u001b[0m\u001b[0m\n",
      "\u001b[0;32m~/.local/lib/python3.6/site-packages/pandas/core/apply.py\u001b[0m in \u001b[0;36mget_result\u001b[0;34m(self)\u001b[0m\n\u001b[1;32m    316\u001b[0m                                       *self.args, **self.kwds)\n\u001b[1;32m    317\u001b[0m \u001b[0;34m\u001b[0m\u001b[0m\n\u001b[0;32m--> 318\u001b[0;31m         \u001b[0;32mreturn\u001b[0m \u001b[0msuper\u001b[0m\u001b[0;34m(\u001b[0m\u001b[0mFrameRowApply\u001b[0m\u001b[0;34m,\u001b[0m \u001b[0mself\u001b[0m\u001b[0;34m)\u001b[0m\u001b[0;34m.\u001b[0m\u001b[0mget_result\u001b[0m\u001b[0;34m(\u001b[0m\u001b[0;34m)\u001b[0m\u001b[0;34m\u001b[0m\u001b[0;34m\u001b[0m\u001b[0m\n\u001b[0m\u001b[1;32m    319\u001b[0m \u001b[0;34m\u001b[0m\u001b[0m\n\u001b[1;32m    320\u001b[0m     \u001b[0;32mdef\u001b[0m \u001b[0mapply_broadcast\u001b[0m\u001b[0;34m(\u001b[0m\u001b[0mself\u001b[0m\u001b[0;34m)\u001b[0m\u001b[0;34m:\u001b[0m\u001b[0;34m\u001b[0m\u001b[0;34m\u001b[0m\u001b[0m\n",
      "\u001b[0;32m~/.local/lib/python3.6/site-packages/pandas/core/apply.py\u001b[0m in \u001b[0;36mget_result\u001b[0;34m(self)\u001b[0m\n\u001b[1;32m    140\u001b[0m             \u001b[0;32mreturn\u001b[0m \u001b[0mself\u001b[0m\u001b[0;34m.\u001b[0m\u001b[0mapply_raw\u001b[0m\u001b[0;34m(\u001b[0m\u001b[0;34m)\u001b[0m\u001b[0;34m\u001b[0m\u001b[0;34m\u001b[0m\u001b[0m\n\u001b[1;32m    141\u001b[0m \u001b[0;34m\u001b[0m\u001b[0m\n\u001b[0;32m--> 142\u001b[0;31m         \u001b[0;32mreturn\u001b[0m \u001b[0mself\u001b[0m\u001b[0;34m.\u001b[0m\u001b[0mapply_standard\u001b[0m\u001b[0;34m(\u001b[0m\u001b[0;34m)\u001b[0m\u001b[0;34m\u001b[0m\u001b[0;34m\u001b[0m\u001b[0m\n\u001b[0m\u001b[1;32m    143\u001b[0m \u001b[0;34m\u001b[0m\u001b[0m\n\u001b[1;32m    144\u001b[0m     \u001b[0;32mdef\u001b[0m \u001b[0mapply_empty_result\u001b[0m\u001b[0;34m(\u001b[0m\u001b[0mself\u001b[0m\u001b[0;34m)\u001b[0m\u001b[0;34m:\u001b[0m\u001b[0;34m\u001b[0m\u001b[0;34m\u001b[0m\u001b[0m\n",
      "\u001b[0;32m~/.local/lib/python3.6/site-packages/pandas/core/apply.py\u001b[0m in \u001b[0;36mapply_standard\u001b[0;34m(self)\u001b[0m\n\u001b[1;32m    230\u001b[0m             \u001b[0;31m# Create a dummy Series from an empty array\u001b[0m\u001b[0;34m\u001b[0m\u001b[0;34m\u001b[0m\u001b[0;34m\u001b[0m\u001b[0m\n\u001b[1;32m    231\u001b[0m             \u001b[0;32mfrom\u001b[0m \u001b[0mpandas\u001b[0m \u001b[0;32mimport\u001b[0m \u001b[0mSeries\u001b[0m\u001b[0;34m\u001b[0m\u001b[0;34m\u001b[0m\u001b[0m\n\u001b[0;32m--> 232\u001b[0;31m             \u001b[0mvalues\u001b[0m \u001b[0;34m=\u001b[0m \u001b[0mself\u001b[0m\u001b[0;34m.\u001b[0m\u001b[0mvalues\u001b[0m\u001b[0;34m\u001b[0m\u001b[0;34m\u001b[0m\u001b[0m\n\u001b[0m\u001b[1;32m    233\u001b[0m             \u001b[0mindex\u001b[0m \u001b[0;34m=\u001b[0m \u001b[0mself\u001b[0m\u001b[0;34m.\u001b[0m\u001b[0mobj\u001b[0m\u001b[0;34m.\u001b[0m\u001b[0m_get_axis\u001b[0m\u001b[0;34m(\u001b[0m\u001b[0mself\u001b[0m\u001b[0;34m.\u001b[0m\u001b[0maxis\u001b[0m\u001b[0;34m)\u001b[0m\u001b[0;34m\u001b[0m\u001b[0;34m\u001b[0m\u001b[0m\n\u001b[1;32m    234\u001b[0m             \u001b[0mlabels\u001b[0m \u001b[0;34m=\u001b[0m \u001b[0mself\u001b[0m\u001b[0;34m.\u001b[0m\u001b[0magg_axis\u001b[0m\u001b[0;34m\u001b[0m\u001b[0;34m\u001b[0m\u001b[0m\n",
      "\u001b[0;32mpandas/_libs/properties.pyx\u001b[0m in \u001b[0;36mpandas._libs.properties.CachedProperty.__get__\u001b[0;34m()\u001b[0m\n",
      "\u001b[0;32m~/.local/lib/python3.6/site-packages/pandas/core/apply.py\u001b[0m in \u001b[0;36mvalues\u001b[0;34m(self)\u001b[0m\n\u001b[1;32m     93\u001b[0m     \u001b[0;34m@\u001b[0m\u001b[0mcache_readonly\u001b[0m\u001b[0;34m\u001b[0m\u001b[0;34m\u001b[0m\u001b[0m\n\u001b[1;32m     94\u001b[0m     \u001b[0;32mdef\u001b[0m \u001b[0mvalues\u001b[0m\u001b[0;34m(\u001b[0m\u001b[0mself\u001b[0m\u001b[0;34m)\u001b[0m\u001b[0;34m:\u001b[0m\u001b[0;34m\u001b[0m\u001b[0;34m\u001b[0m\u001b[0m\n\u001b[0;32m---> 95\u001b[0;31m         \u001b[0;32mreturn\u001b[0m \u001b[0mself\u001b[0m\u001b[0;34m.\u001b[0m\u001b[0mobj\u001b[0m\u001b[0;34m.\u001b[0m\u001b[0mvalues\u001b[0m\u001b[0;34m\u001b[0m\u001b[0;34m\u001b[0m\u001b[0m\n\u001b[0m\u001b[1;32m     96\u001b[0m \u001b[0;34m\u001b[0m\u001b[0m\n\u001b[1;32m     97\u001b[0m     \u001b[0;34m@\u001b[0m\u001b[0mcache_readonly\u001b[0m\u001b[0;34m\u001b[0m\u001b[0;34m\u001b[0m\u001b[0m\n",
      "\u001b[0;32m~/.local/lib/python3.6/site-packages/pandas/core/generic.py\u001b[0m in \u001b[0;36mvalues\u001b[0;34m(self)\u001b[0m\n\u001b[1;32m   4631\u001b[0m         \"\"\"\n\u001b[1;32m   4632\u001b[0m         \u001b[0mself\u001b[0m\u001b[0;34m.\u001b[0m\u001b[0m_consolidate_inplace\u001b[0m\u001b[0;34m(\u001b[0m\u001b[0;34m)\u001b[0m\u001b[0;34m\u001b[0m\u001b[0;34m\u001b[0m\u001b[0m\n\u001b[0;32m-> 4633\u001b[0;31m         \u001b[0;32mreturn\u001b[0m \u001b[0mself\u001b[0m\u001b[0;34m.\u001b[0m\u001b[0m_data\u001b[0m\u001b[0;34m.\u001b[0m\u001b[0mas_array\u001b[0m\u001b[0;34m(\u001b[0m\u001b[0mtranspose\u001b[0m\u001b[0;34m=\u001b[0m\u001b[0mself\u001b[0m\u001b[0;34m.\u001b[0m\u001b[0m_AXIS_REVERSED\u001b[0m\u001b[0;34m)\u001b[0m\u001b[0;34m\u001b[0m\u001b[0;34m\u001b[0m\u001b[0m\n\u001b[0m\u001b[1;32m   4634\u001b[0m \u001b[0;34m\u001b[0m\u001b[0m\n\u001b[1;32m   4635\u001b[0m     \u001b[0;34m@\u001b[0m\u001b[0mproperty\u001b[0m\u001b[0;34m\u001b[0m\u001b[0;34m\u001b[0m\u001b[0m\n",
      "\u001b[0;32m~/.local/lib/python3.6/site-packages/pandas/core/internals.py\u001b[0m in \u001b[0;36mas_array\u001b[0;34m(self, transpose, items)\u001b[0m\n\u001b[1;32m   3947\u001b[0m             \u001b[0marr\u001b[0m \u001b[0;34m=\u001b[0m \u001b[0mmgr\u001b[0m\u001b[0;34m.\u001b[0m\u001b[0mblocks\u001b[0m\u001b[0;34m[\u001b[0m\u001b[0;36m0\u001b[0m\u001b[0;34m]\u001b[0m\u001b[0;34m.\u001b[0m\u001b[0mget_values\u001b[0m\u001b[0;34m(\u001b[0m\u001b[0;34m)\u001b[0m\u001b[0;34m\u001b[0m\u001b[0;34m\u001b[0m\u001b[0m\n\u001b[1;32m   3948\u001b[0m         \u001b[0;32melse\u001b[0m\u001b[0;34m:\u001b[0m\u001b[0;34m\u001b[0m\u001b[0;34m\u001b[0m\u001b[0m\n\u001b[0;32m-> 3949\u001b[0;31m             \u001b[0marr\u001b[0m \u001b[0;34m=\u001b[0m \u001b[0mmgr\u001b[0m\u001b[0;34m.\u001b[0m\u001b[0m_interleave\u001b[0m\u001b[0;34m(\u001b[0m\u001b[0;34m)\u001b[0m\u001b[0;34m\u001b[0m\u001b[0;34m\u001b[0m\u001b[0m\n\u001b[0m\u001b[1;32m   3950\u001b[0m \u001b[0;34m\u001b[0m\u001b[0m\n\u001b[1;32m   3951\u001b[0m         \u001b[0;32mreturn\u001b[0m \u001b[0marr\u001b[0m\u001b[0;34m.\u001b[0m\u001b[0mtranspose\u001b[0m\u001b[0;34m(\u001b[0m\u001b[0;34m)\u001b[0m \u001b[0;32mif\u001b[0m \u001b[0mtranspose\u001b[0m \u001b[0;32melse\u001b[0m \u001b[0marr\u001b[0m\u001b[0;34m\u001b[0m\u001b[0;34m\u001b[0m\u001b[0m\n",
      "\u001b[0;32m~/.local/lib/python3.6/site-packages/pandas/core/internals.py\u001b[0m in \u001b[0;36m_interleave\u001b[0;34m(self)\u001b[0m\n\u001b[1;32m   3976\u001b[0m         \u001b[0;32mfor\u001b[0m \u001b[0mblk\u001b[0m \u001b[0;32min\u001b[0m \u001b[0mself\u001b[0m\u001b[0;34m.\u001b[0m\u001b[0mblocks\u001b[0m\u001b[0;34m:\u001b[0m\u001b[0;34m\u001b[0m\u001b[0;34m\u001b[0m\u001b[0m\n\u001b[1;32m   3977\u001b[0m             \u001b[0mrl\u001b[0m \u001b[0;34m=\u001b[0m \u001b[0mblk\u001b[0m\u001b[0;34m.\u001b[0m\u001b[0mmgr_locs\u001b[0m\u001b[0;34m\u001b[0m\u001b[0;34m\u001b[0m\u001b[0m\n\u001b[0;32m-> 3978\u001b[0;31m             \u001b[0mresult\u001b[0m\u001b[0;34m[\u001b[0m\u001b[0mrl\u001b[0m\u001b[0;34m.\u001b[0m\u001b[0mindexer\u001b[0m\u001b[0;34m]\u001b[0m \u001b[0;34m=\u001b[0m \u001b[0mblk\u001b[0m\u001b[0;34m.\u001b[0m\u001b[0mget_values\u001b[0m\u001b[0;34m(\u001b[0m\u001b[0mdtype\u001b[0m\u001b[0;34m)\u001b[0m\u001b[0;34m\u001b[0m\u001b[0;34m\u001b[0m\u001b[0m\n\u001b[0m\u001b[1;32m   3979\u001b[0m             \u001b[0mitemmask\u001b[0m\u001b[0;34m[\u001b[0m\u001b[0mrl\u001b[0m\u001b[0;34m.\u001b[0m\u001b[0mindexer\u001b[0m\u001b[0;34m]\u001b[0m \u001b[0;34m=\u001b[0m \u001b[0;36m1\u001b[0m\u001b[0;34m\u001b[0m\u001b[0;34m\u001b[0m\u001b[0m\n\u001b[1;32m   3980\u001b[0m \u001b[0;34m\u001b[0m\u001b[0m\n",
      "\u001b[0;32m~/.local/lib/python3.6/site-packages/pandas/core/internals.py\u001b[0m in \u001b[0;36mget_values\u001b[0;34m(self, dtype)\u001b[0m\n\u001b[1;32m    217\u001b[0m         \"\"\"\n\u001b[1;32m    218\u001b[0m         \u001b[0;32mif\u001b[0m \u001b[0mis_object_dtype\u001b[0m\u001b[0;34m(\u001b[0m\u001b[0mdtype\u001b[0m\u001b[0;34m)\u001b[0m\u001b[0;34m:\u001b[0m\u001b[0;34m\u001b[0m\u001b[0;34m\u001b[0m\u001b[0m\n\u001b[0;32m--> 219\u001b[0;31m             \u001b[0;32mreturn\u001b[0m \u001b[0mself\u001b[0m\u001b[0;34m.\u001b[0m\u001b[0mvalues\u001b[0m\u001b[0;34m.\u001b[0m\u001b[0mastype\u001b[0m\u001b[0;34m(\u001b[0m\u001b[0mobject\u001b[0m\u001b[0;34m)\u001b[0m\u001b[0;34m\u001b[0m\u001b[0;34m\u001b[0m\u001b[0m\n\u001b[0m\u001b[1;32m    220\u001b[0m         \u001b[0;32mreturn\u001b[0m \u001b[0mself\u001b[0m\u001b[0;34m.\u001b[0m\u001b[0mvalues\u001b[0m\u001b[0;34m\u001b[0m\u001b[0;34m\u001b[0m\u001b[0m\n\u001b[1;32m    221\u001b[0m \u001b[0;34m\u001b[0m\u001b[0m\n",
      "\u001b[0;31mMemoryError\u001b[0m: "
     ]
    }
   ],
   "source": [
    "df.columns[df.nunique() == 1]"
   ]
  },
  {
   "cell_type": "code",
   "execution_count": null,
   "metadata": {},
   "outputs": [],
   "source": [
    "(np.std(df['MatchedHit_Z[0]']),\n",
    "np.mean(df['MatchedHit_Z[0]']), np.mean(df['MatchedHit_Z[3]']))"
   ]
  },
  {
   "cell_type": "code",
   "execution_count": null,
   "metadata": {},
   "outputs": [],
   "source": [
    "import matplotlib.pyplot as plt\n",
    "%matplotlib inline\n",
    "plt.hist(df['MatchedHit_Z[0]'], bins=100)"
   ]
  },
  {
   "cell_type": "code",
   "execution_count": null,
   "metadata": {},
   "outputs": [],
   "source": [
    "# проверка прямолинености полета\n",
    "delta = df['Lextra_X[3]'] - df['Lextra_X[0]']\n",
    "dif = delta/3 - df['Lextra_X[1]']\n",
    "del delta \n",
    "del dif"
   ]
  },
  {
   "cell_type": "code",
   "execution_count": null,
   "metadata": {},
   "outputs": [],
   "source": [
    "# проверка прямолинейности для реальных\n",
    "delta_x = df['MatchedHit_X[1]'] - df['MatchedHit_X[0]']\n",
    "delta_y = df['MatchedHit_Y[1]'] - df['MatchedHit_Y[0]']\n",
    "\n",
    "radius = (delta_x**2 + delta_y**2)**0.5\n",
    "#dif_r = delta_r - df['MatchedHit_X[1]']\n",
    "#dif_r.mean()"
   ]
  },
  {
   "cell_type": "code",
   "execution_count": null,
   "metadata": {},
   "outputs": [],
   "source": [
    "delta1_x = df['MatchedHit_X[1]'] - df['MatchedHit_X[0]']\n",
    "delta1_y = df['MatchedHit_Y[1]'] - df['MatchedHit_Y[0]']\n",
    "\n",
    "radius1 = (delta1_x**2 + delta1_y**2)**0.5"
   ]
  },
  {
   "cell_type": "code",
   "execution_count": null,
   "metadata": {},
   "outputs": [],
   "source": [
    "del delta1_y"
   ]
  },
  {
   "cell_type": "code",
   "execution_count": null,
   "metadata": {},
   "outputs": [],
   "source": [
    "delta2_x = df['MatchedHit_X[2]'] - df['MatchedHit_X[1]']\n",
    "delta2_y = df['MatchedHit_Y[2]'] - df['MatchedHit_Y[1]']\n",
    "\n",
    "radius2 = (delta2_x**2 + delta2_y**2)**0.5"
   ]
  },
  {
   "cell_type": "code",
   "execution_count": null,
   "metadata": {},
   "outputs": [],
   "source": [
    "#dt = kf['MatchedHit_T[3]'] - kf['MatchedHit_T[0]']\n",
    "#print(len(df[(radius1 < radius1.std())]))\n",
    "#len(df[(radius1 > (radius1.mean() - radius1.std()) ) & (radius1 < (radius1.mean() + radius1.std()) ) ])\n",
    "#kf[kf.label == 1]['MatchedHit_T[1]'].std()\n",
    "kf[kf.label == 1].PT.std()"
   ]
  },
  {
   "cell_type": "code",
   "execution_count": 4,
   "metadata": {},
   "outputs": [],
   "source": [
    "#kf = df[(radius1 < radius1.std())]\n",
    "#kf = df[(radius1 > (radius1.mean() - radius1.std()) ) & (radius1 < (radius1.mean() + radius1.std()) ) ]\n",
    "#kf = df[df['NShared'] != 0]\n",
    "kf = df[df['MatchedHit_T[0]'] < df['MatchedHit_T[0]'].std()]\n",
    "#kf = kf[kf['MatchedHit_T[1]'] < kf['MatchedHit_T[1]'].std()]\n",
    "#kf = kf[kf['MatchedHit_T[2]'] < kf['MatchedHit_T[2]'].std()]\n",
    "\n",
    "\n",
    "#kf = kf[kf['NShared'] != 0]\n",
    "\n",
    "ratio = float(np.sum(kf.label == 1)) / np.sum(kf.label == 0)\n",
    "#sample_size = sum(kf.label == 0)  # Equivalent to len(data[data.Healthy == 0])\n",
    "#random_indices = np.random.choice(healthy_indices, sample_size, replace=False)\n",
    "\n",
    "#kf = kf.loc[random_indices]\n",
    "\n",
    "#& (df['MatchedHit_TYPE[0]'] == 2)"
   ]
  },
  {
   "cell_type": "code",
   "execution_count": null,
   "metadata": {},
   "outputs": [],
   "source": [
    "len(kf)"
   ]
  },
  {
   "cell_type": "code",
   "execution_count": null,
   "metadata": {},
   "outputs": [],
   "source": [
    "#back_index = kf[kf.label == 0]\n",
    "#signal_index = kf[kf.label == 1][:len(back_index)]\n",
    "healthy_indices = kf[kf.label == 1].index\n",
    "back = kf[kf.label == 0].index\n",
    "\n",
    "#healthy_indices = data[data.Healthy == 1].index\n",
    "random_signal = np.random.choice(healthy_indices, len(back), replace=False)\n",
    "signal_sample = kf.loc[random_signal]\n",
    "\n",
    "\n",
    "#healthy_indices = data[data.Healthy == 1].index\n",
    "random_back = np.random.choice(back, len(back), replace=False)\n",
    "back_sample = kf.loc[random_back]\n",
    "\n",
    "\n",
    "\n",
    "healthy = pd.concat([back_sample, signal_sample])\n",
    "healty.to()"
   ]
  },
  {
   "cell_type": "code",
   "execution_count": null,
   "metadata": {},
   "outputs": [],
   "source": [
    "len(kf[kf['MatchedHit_TYPE[3]'] == 2])\n"
   ]
  },
  {
   "cell_type": "code",
   "execution_count": null,
   "metadata": {},
   "outputs": [],
   "source": [
    "df[(radius2 < radius2.std()) & (df['MatchedHit_TYPE[3]'] == 2)].label.value_counts()"
   ]
  },
  {
   "cell_type": "code",
   "execution_count": 5,
   "metadata": {},
   "outputs": [],
   "source": [
    "y = kf.label\n",
    "X  = kf.drop(['id','sWeight','particle_type','label','kinWeight','weight','FOI_hits_X','FOI_hits_Y','FOI_hits_Z','FOI_hits_DX','FOI_hits_DY','FOI_hits_DZ','FOI_hits_T','FOI_hits_DT','FOI_hits_S'], axis = 1)"
   ]
  },
  {
   "cell_type": "code",
   "execution_count": null,
   "metadata": {},
   "outputs": [],
   "source": [
    "del kf"
   ]
  },
  {
   "cell_type": "code",
   "execution_count": 6,
   "metadata": {},
   "outputs": [],
   "source": [
    "import xgboost as xgb"
   ]
  },
  {
   "cell_type": "code",
   "execution_count": 7,
   "metadata": {},
   "outputs": [],
   "source": [
    "import re\n",
    "regex = re.compile(r\"\\[|\\]|<\", re.IGNORECASE)\n",
    "\n",
    "X.columns = [regex.sub(\"_\", col) if any(x in str(col) for x in set(('[', ']', '<'))) else col for col in X.columns.values]"
   ]
  },
  {
   "cell_type": "code",
   "execution_count": null,
   "metadata": {},
   "outputs": [],
   "source": [
    "X_train, X_test, y_train, y_test = train_test_split(X, y, test_size=0.3, random_state=17)"
   ]
  },
  {
   "cell_type": "code",
   "execution_count": null,
   "metadata": {},
   "outputs": [],
   "source": [
    "ratio"
   ]
  },
  {
   "cell_type": "code",
   "execution_count": 8,
   "metadata": {},
   "outputs": [],
   "source": [
    "params = {\n",
    "    'objective':'binary:logistic',\n",
    "    'n_jobs':-1,\n",
    "    'max_depth': 3,\n",
    "    'nthread': 4,\n",
    "    'silent': 1,\n",
    "    'min_child_weight': 6,\n",
    "    'ratio': 20\n",
    "}\n",
    "num_rounds = 20"
   ]
  },
  {
   "cell_type": "code",
   "execution_count": 9,
   "metadata": {},
   "outputs": [],
   "source": [
    "#weights = np.zeros(len(y))\n",
    "#weights[y == 0] = 20\n",
    "#weights[y == 1] = 1\n",
    "\n",
    "dtrain = xgb.DMatrix(X, label=y) # weights added\n",
    "#dtest = xgb.DMatrix(X_test)"
   ]
  },
  {
   "cell_type": "code",
   "execution_count": 10,
   "metadata": {},
   "outputs": [
    {
     "name": "stdout",
     "output_type": "stream",
     "text": [
      "CPU times: user 16.7 s, sys: 97.5 ms, total: 16.8 s\n",
      "Wall time: 4.48 s\n"
     ]
    }
   ],
   "source": [
    "%%time\n",
    "xgb_model = xgb.train(params, dtrain, num_rounds)\n",
    "\n",
    "\n",
    "#y_test_preds = (xgb_model.predict(X_test) > 0.5).astype('int')"
   ]
  },
  {
   "cell_type": "code",
   "execution_count": null,
   "metadata": {},
   "outputs": [],
   "source": [
    "xgb_model = xgb.XGBClassifier()\n",
    "xgb_model.fit(X_train, y_train)"
   ]
  },
  {
   "cell_type": "code",
   "execution_count": null,
   "metadata": {},
   "outputs": [],
   "source": [
    "rejection90(y_test, xgb_model.predict(xgb.DMatrix(X_test)))"
   ]
  },
  {
   "cell_type": "code",
   "execution_count": null,
   "metadata": {},
   "outputs": [],
   "source": [
    "#f = df.copy()\n",
    "y = df.label\n",
    "X  = df.drop(['id','sWeight','particle_type','label','kinWeight','weight','FOI_hits_X','FOI_hits_Y','FOI_hits_Z','FOI_hits_DX','FOI_hits_DY','FOI_hits_DZ','FOI_hits_T','FOI_hits_DT','FOI_hits_S'], axis = 1)\n",
    "\n",
    "import re\n",
    "regex = re.compile(r\"\\[|\\]|<\", re.IGNORECASE)\n",
    "X.columns = [regex.sub(\"_\", col) if any(x in str(col) for x in set(('[', ']', '<'))) else col for col in X.columns.values]"
   ]
  },
  {
   "cell_type": "code",
   "execution_count": 11,
   "metadata": {},
   "outputs": [],
   "source": [
    "del df"
   ]
  },
  {
   "cell_type": "code",
   "execution_count": null,
   "metadata": {},
   "outputs": [],
   "source": [
    "X = X[X['MatchedHit_T_0_'] < X['MatchedHit_T_0_'].std()]"
   ]
  },
  {
   "cell_type": "code",
   "execution_count": null,
   "metadata": {},
   "outputs": [],
   "source": [
    "y = y[X.index]"
   ]
  },
  {
   "cell_type": "code",
   "execution_count": 12,
   "metadata": {},
   "outputs": [],
   "source": [
    "ll = pd.read_csv('test_public_v2.csv')\n",
    "test_y = ll.id\n"
   ]
  },
  {
   "cell_type": "code",
   "execution_count": 13,
   "metadata": {},
   "outputs": [],
   "source": [
    "test_X = ll.drop(['id','FOI_hits_X','FOI_hits_Y','FOI_hits_Z','FOI_hits_DX','FOI_hits_DY','FOI_hits_DZ','FOI_hits_T','FOI_hits_DT','FOI_hits_S'], axis = 1)"
   ]
  },
  {
   "cell_type": "code",
   "execution_count": 15,
   "metadata": {},
   "outputs": [],
   "source": [
    "regex = re.compile(r\"\\[|\\]|<\", re.IGNORECASE)\n",
    "\n",
    "test_X.columns = [regex.sub(\"_\", col) if any(x in str(col) for x in set(('[', ']', '<'))) else col for col in X.columns.values]\n",
    "pred = xgb_model.predict(xgb.DMatrix(test_X))"
   ]
  },
  {
   "cell_type": "code",
   "execution_count": 16,
   "metadata": {},
   "outputs": [
    {
     "name": "stdout",
     "output_type": "stream",
     "text": [
      "<class 'pandas.core.frame.DataFrame'>\n",
      "RangeIndex: 726095 entries, 0 to 726094\n",
      "Data columns (total 2 columns):\n",
      "prediction    726095 non-null float32\n",
      "id            726095 non-null int64\n",
      "dtypes: float32(1), int64(1)\n",
      "memory usage: 8.3 MB\n"
     ]
    }
   ],
   "source": [
    "#predicted_df = pd.DataFrame([test_y,pred], index = np.arange(1, pred.shape[0] + 1))\n",
    "predicted_df = pd.DataFrame(data={\"prediction\": pred, \"id\": test_y}) \n",
    "predicted_df.to_csv(\"sample_submission.csv\", index_label='id')\n",
    "predicted_df.info()\n",
    "#, \"id\": test_y\n",
    "#predicted_df.to_csv('ans.csv')"
   ]
  },
  {
   "cell_type": "code",
   "execution_count": null,
   "metadata": {},
   "outputs": [],
   "source": [
    "predicted_df.head()"
   ]
  },
  {
   "cell_type": "code",
   "execution_count": null,
   "metadata": {},
   "outputs": [],
   "source": [
    "rejection90(y_test, xgb_model.predict(dtest))"
   ]
  },
  {
   "cell_type": "code",
   "execution_count": null,
   "metadata": {},
   "outputs": [],
   "source": [
    "rejection90(y, xgb_model.predict(xgb.DMatrix(X)))"
   ]
  },
  {
   "cell_type": "code",
   "execution_count": null,
   "metadata": {},
   "outputs": [],
   "source": [
    "#xgb.plot_tree\n",
    "#xgb.plot_importance(xgb_model);"
   ]
  },
  {
   "cell_type": "code",
   "execution_count": null,
   "metadata": {},
   "outputs": [],
   "source": [
    "from hyperopt import hp\n",
    "from hyperopt import fmin, tpe, hp, STATUS_OK, Trials"
   ]
  },
  {
   "cell_type": "code",
   "execution_count": null,
   "metadata": {},
   "outputs": [],
   "source": [
    "weights = np.zeros(len(y_train))\n",
    "weights[y_train == 0] = 15\n",
    "weights[y_train == 1] = 1\n",
    "\n",
    "dtrain = xgb.DMatrix(X_train, label=y_train, weight=weights)\n",
    "dvalid = xgb.DMatrix(X_test, label=y_test)"
   ]
  },
  {
   "cell_type": "code",
   "execution_count": null,
   "metadata": {},
   "outputs": [],
   "source": [
    "def score(params):\n",
    "    print(\"Training with params:\")\n",
    "    print(params)\n",
    "    params['max_depth'] = int(params['max_depth'])\n",
    "    #dtrain = xgb.DMatrix(X_train, label=y_train, weight=weights)\n",
    "    #dvalid = xgb.DMatrix(X_test, label=y_test)\n",
    "    model = xgb.train(params, dtrain, params['num_round'])\n",
    "    predictions = model.predict(dvalid) #.reshape((X_test.shape[0], 7))\n",
    "    score = rejection90(y_test, predictions)\n",
    "    print(\"\\tScore {0}\\n\\n\".format(score))\n",
    "    return {'loss': score, 'status': STATUS_OK}"
   ]
  },
  {
   "cell_type": "code",
   "execution_count": null,
   "metadata": {},
   "outputs": [],
   "source": [
    "def optimize(trials):\n",
    "    space = {\n",
    "             'num_round': 100,\n",
    "             'learning_rate': hp.quniform('eta', 0.005, 0.05, 0.005),\n",
    "             'max_depth': 3,\n",
    "             'min_child_weight': 6,\n",
    "             'subsample': hp.quniform('subsample', 0.5, 1, 0.05),\n",
    "             'gamma': hp.quniform('gamma', 0.5, 1, 0.01),\n",
    "             'colsample_bytree': hp.quniform('colsample_bytree', 0.4, 1, 0.05),\n",
    "             'eval_metric': 'error',\n",
    "             'objective': 'binary:logistic',\n",
    "             'nthread' : 4,\n",
    "             'silent' : 0,\n",
    "             'n_jobs' : -1\n",
    "             }\n",
    "    \n",
    "    best = fmin(score, space, algo=tpe.suggest, trials=trials, max_evals=10)\n",
    "    return best\n"
   ]
  },
  {
   "cell_type": "code",
   "execution_count": null,
   "metadata": {},
   "outputs": [],
   "source": [
    "%%time\n",
    "trials = Trials()\n",
    "best_params = optimize(trials)\n",
    "best_params"
   ]
  },
  {
   "cell_type": "code",
   "execution_count": null,
   "metadata": {},
   "outputs": [],
   "source": [
    "best_params\n",
    "0.551223186742234\n",
    "0.552442786426573"
   ]
  },
  {
   "cell_type": "code",
   "execution_count": null,
   "metadata": {},
   "outputs": [],
   "source": [
    "#best_params['max_depth'] = 3\n",
    "#best_params['eval_metric'] = 'merror'\n",
    "#best_params['objective'] = 'binary:logistic'\n",
    "#best_params['nthread'] = 4\n",
    "#best_params['silent'] = 1\n",
    "#best_params['n_jobs'] =  -1\n",
    "#best_params['colsample_bytree'] = 0.9\n",
    "#best_params['eta'] = 0.02\n",
    "#best_params['gamma'] = 0.58\n",
    "#best_params['min_child_weight'] = 6\n",
    "#best_params['subsample'] = 0.6000000000000001\n",
    "\n",
    "best_params = {\n",
    "    'num_round': 100,\n",
    "    'objective':'binary:logistic',\n",
    "    'n_jobs':-1,\n",
    "    'max_depth': 3,\n",
    "    'eval_metric': 'error',\n",
    "    'nthread': 4,\n",
    "    'silent': 1,\n",
    "    'colsample_bytree': 0.9,\n",
    "    'eta': 0.02,\n",
    "    'gamma': 0.58,\n",
    "    'min_child_weight': 6,\n",
    "    'subsample': 0.6000000000000001\n",
    "}\n",
    "\n"
   ]
  },
  {
   "cell_type": "code",
   "execution_count": null,
   "metadata": {},
   "outputs": [],
   "source": [
    "#dtrain = xgb.DMatrix(X_train, y_train)"
   ]
  },
  {
   "cell_type": "code",
   "execution_count": null,
   "metadata": {},
   "outputs": [],
   "source": [
    "weights = np.zeros(len(y_train))\n",
    "weights[y_train == 0] = 20 #11\n",
    "weights[y_train == 1] = 1\n",
    "\n",
    "dtrain = xgb.DMatrix(X_train, label=y_train, weight=weights)\n",
    "dtest = xgb.DMatrix(X_test, label=y_test)"
   ]
  },
  {
   "cell_type": "code",
   "execution_count": null,
   "metadata": {},
   "outputs": [],
   "source": []
  },
  {
   "cell_type": "code",
   "execution_count": null,
   "metadata": {},
   "outputs": [],
   "source": [
    "num_rounds = 20\n",
    "#bestXgb = xgb.train(best_params, dtrain, num_rounds, feval = rejection90, maximize = True)\n",
    "bestXgb = xgb.XGBClassifier()\n",
    "bestXgb.fit(X_train, y_train)\n",
    "\n",
    "#xgboost_predict_proba = bestXgb.predict(dtest)\n",
    "#xgboost_prediction = np.argmax(xgboost_predict_proba,axis=1)"
   ]
  },
  {
   "cell_type": "code",
   "execution_count": null,
   "metadata": {},
   "outputs": [],
   "source": [
    "#dtest = xgb.DMatrix(y_test)\n",
    "#rejection90(y_test, xgb_model.predict(dtest))\n",
    "rejection90(y_test, bestXgb.predict(dtest))"
   ]
  },
  {
   "cell_type": "code",
   "execution_count": null,
   "metadata": {},
   "outputs": [],
   "source": [
    "bestXgb.predict(dvalid).shape"
   ]
  },
  {
   "cell_type": "code",
   "execution_count": null,
   "metadata": {},
   "outputs": [],
   "source": [
    "model = xgb.XGBClassifier(nthread = 4, n_jobs = -1)\n",
    "model.fit(X_train, y_train)"
   ]
  },
  {
   "cell_type": "code",
   "execution_count": null,
   "metadata": {},
   "outputs": [],
   "source": [
    "model.score(X_test, y_test)"
   ]
  },
  {
   "cell_type": "code",
   "execution_count": null,
   "metadata": {},
   "outputs": [],
   "source": [
    "rejection90(y_test, model.predict(X_test))"
   ]
  },
  {
   "cell_type": "code",
   "execution_count": null,
   "metadata": {},
   "outputs": [],
   "source": [
    "from sklearn.ensemble import ExtraTreesClassifier\n",
    "\n",
    "model = ExtraTreesClassifier()\n",
    "\n",
    "model.fit(X, y)\n",
    "\n",
    "print(model.feature_importances_)"
   ]
  },
  {
   "cell_type": "code",
   "execution_count": null,
   "metadata": {},
   "outputs": [],
   "source": [
    "pion = df[df.particle_type == 0]\n",
    "muon = df[df.particle_type == 1]\n",
    "proton = df[df.particle_type == 2]"
   ]
  },
  {
   "cell_type": "code",
   "execution_count": null,
   "metadata": {},
   "outputs": [],
   "source": [
    "muon[['MatchedHit_DT[3]','MatchedHit_DT[2]','MatchedHit_DT[1]','MatchedHit_DT[0]','MatchedHit_T[3]', 'MatchedHit_T[2]', 'MatchedHit_T[1]', 'MatchedHit_T[0]']].corr()"
   ]
  },
  {
   "cell_type": "code",
   "execution_count": null,
   "metadata": {},
   "outputs": [],
   "source": [
    "speed_pion_2 = pion['MatchedHit_DT[2]'] - pion['MatchedHit_DT[1]']"
   ]
  },
  {
   "cell_type": "code",
   "execution_count": null,
   "metadata": {},
   "outputs": [],
   "source": [
    "len(speed_pion_2)"
   ]
  },
  {
   "cell_type": "code",
   "execution_count": null,
   "metadata": {},
   "outputs": [],
   "source": [
    "speed_pion_2[speed_pion_2 == 0].count()"
   ]
  },
  {
   "cell_type": "code",
   "execution_count": null,
   "metadata": {},
   "outputs": [],
   "source": [
    "muon['MatchedHit_DT[3]'].mean()"
   ]
  },
  {
   "cell_type": "code",
   "execution_count": null,
   "metadata": {},
   "outputs": [],
   "source": [
    "proton['MatchedHit_DT[3]'].mean()"
   ]
  },
  {
   "cell_type": "code",
   "execution_count": null,
   "metadata": {},
   "outputs": [],
   "source": [
    "len(muon[pion['MatchedHit_X[3]'] == -9999])"
   ]
  },
  {
   "cell_type": "code",
   "execution_count": null,
   "metadata": {},
   "outputs": [],
   "source": [
    "#df1 = df[:int(len(df)/4)]"
   ]
  },
  {
   "cell_type": "code",
   "execution_count": null,
   "metadata": {},
   "outputs": [],
   "source": [
    "#df2 = df1.copy()\n",
    "#df2 = df2.replace(-9999, pd.np.nan)\n",
    "#df2 = df2.dropna(how = 'any')\n",
    "#df1[df1 == -0]"
   ]
  },
  {
   "cell_type": "code",
   "execution_count": null,
   "metadata": {
    "scrolled": true
   },
   "outputs": [],
   "source": [
    "#df2.shape"
   ]
  },
  {
   "cell_type": "code",
   "execution_count": null,
   "metadata": {},
   "outputs": [],
   "source": [
    "#df3 = df2[:int(len(df2)/4)]\n",
    "#df3.to_csv(path_or_buf = '/home/rebinew/python/yandex/qwerty.csv', index = False)"
   ]
  },
  {
   "cell_type": "code",
   "execution_count": null,
   "metadata": {},
   "outputs": [],
   "source": [
    "dd = pd.read_csv('/home/rebinew/python/yandex/qwerty.csv')"
   ]
  },
  {
   "cell_type": "code",
   "execution_count": null,
   "metadata": {},
   "outputs": [],
   "source": [
    "dd.info()"
   ]
  },
  {
   "cell_type": "code",
   "execution_count": null,
   "metadata": {},
   "outputs": [],
   "source": [
    "pion = dd[dd.particle_type == 0]\n",
    "muon = dd[dd.particle_type == 1]\n",
    "proton = dd[dd.particle_type == 2]"
   ]
  },
  {
   "cell_type": "code",
   "execution_count": null,
   "metadata": {},
   "outputs": [],
   "source": [
    "muon = muon.iloc[:len(proton)]"
   ]
  },
  {
   "cell_type": "code",
   "execution_count": null,
   "metadata": {},
   "outputs": [],
   "source": [
    "pion = pion.iloc[:len(proton)]"
   ]
  },
  {
   "cell_type": "code",
   "execution_count": null,
   "metadata": {},
   "outputs": [],
   "source": [
    "min(proton.kinWeight)"
   ]
  },
  {
   "cell_type": "code",
   "execution_count": null,
   "metadata": {},
   "outputs": [],
   "source": [
    "max(muon.kinWeight)"
   ]
  },
  {
   "cell_type": "code",
   "execution_count": null,
   "metadata": {},
   "outputs": [],
   "source": [
    "#test = dd[['particle_type', 'kinWeight', 'P']]\n",
    "test = pd.concat([muon, pion, proton])"
   ]
  },
  {
   "cell_type": "code",
   "execution_count": null,
   "metadata": {},
   "outputs": [],
   "source": [
    "#alpha_X01 = []\n",
    "#mas = []\n",
    "#for i in range(len(test)):\n",
    "#    alpha_X01 = mp.fabs(test['MatchedHit_X[1]'] - test['MatchedHit_X[0]'])**2\n",
    "#    mas.append(alpha_X01)"
   ]
  },
  {
   "cell_type": "code",
   "execution_count": null,
   "metadata": {},
   "outputs": [],
   "source": [
    "#dd = dd.assign(ALPHA_X01 = mas)"
   ]
  },
  {
   "cell_type": "code",
   "execution_count": null,
   "metadata": {},
   "outputs": [],
   "source": [
    "new_test = test.copy()"
   ]
  },
  {
   "cell_type": "code",
   "execution_count": null,
   "metadata": {},
   "outputs": [],
   "source": [
    "dif = test['MatchedHit_X[1]'] - test['MatchedHit_X[0]']\n",
    "#dist2 = dif**2 + 1500**2\n",
    "#dist = dist2**0.5\n",
    "#speed = dist / (test['MatchedHit_T[1]'])\n",
    "new_test = new_test.assign(dif1 = dif)"
   ]
  },
  {
   "cell_type": "code",
   "execution_count": null,
   "metadata": {},
   "outputs": [],
   "source": [
    "#для первой\n",
    "dist = max(new_test.dif1) - min(new_test.dif1)\n",
    "first_segment = new_test[(new_test.dif1**2)**0.5 <= dist/4]\n",
    "second_segment = new_test[((new_test.dif1**2)**0.5 > dist/4) & ((new_test.dif1**2)**0.5 <= dist/2)]\n",
    "third_segment = new_test[((new_test.dif1**2)**0.5 > dist/2) & ((new_test.dif1**2)**0.5 <= 3*dist/4)]\n",
    "fourth_segment = new_test[(new_test.dif1**2)**0.5 > 3*dist/4]"
   ]
  },
  {
   "cell_type": "code",
   "execution_count": null,
   "metadata": {},
   "outputs": [],
   "source": [
    "# dist = 130\n",
    "dist"
   ]
  },
  {
   "cell_type": "code",
   "execution_count": null,
   "metadata": {},
   "outputs": [],
   "source": [
    "print(len(first_segment))\n",
    "print(len(second_segment))\n",
    "print(len(third_segment))\n",
    "print(len(fourth_segment))"
   ]
  },
  {
   "cell_type": "code",
   "execution_count": null,
   "metadata": {},
   "outputs": [],
   "source": [
    "len(new_test[((new_test.dif1**2)**0.5 > 0.5825*dist) & ((new_test.dif1**2)**0.5 <= 1.1951*dist)])"
   ]
  },
  {
   "cell_type": "code",
   "execution_count": null,
   "metadata": {},
   "outputs": [],
   "source": [
    "#dist = dist/4\n",
    "first_segment = new_test[(new_test.dif1**2)**0.5 <= dist/4]\n",
    "second_segment = new_test[((new_test.dif1**2)**0.5 > dist/4) & ((new_test.dif1**2)**0.5 <= 0.5825*dist)]\n",
    "third_segment = new_test[((new_test.dif1**2)**0.5 > 0.5825*dist) & ((new_test.dif1**2)**0.5 <= 1.1951*dist)]\n",
    "fourth_segment = new_test[(new_test.dif1**2)**0.5 > 1.1951*dist]"
   ]
  },
  {
   "cell_type": "code",
   "execution_count": null,
   "metadata": {},
   "outputs": [],
   "source": [
    "sns.distplot(first_segment.particle_type, kde=False, rug=True, label = 'first')\n",
    "sns.distplot(second_segment.particle_type, kde=False, rug=True, label = 'second')\n",
    "sns.distplot(third_segment.particle_type, kde=False, rug=True, label = 'third')\n",
    "sns.distplot(fourth_segment.particle_type, kde=False, rug=True, label = 'fourth')\n",
    "plt.legend();"
   ]
  },
  {
   "cell_type": "code",
   "execution_count": null,
   "metadata": {},
   "outputs": [],
   "source": [
    "c = first_segment.corr().abs()\n",
    "\n",
    "s = c.unstack()\n",
    "so = s.sort_values(kind=\"quicksort\")\n",
    "\n",
    "so['label']"
   ]
  },
  {
   "cell_type": "code",
   "execution_count": null,
   "metadata": {},
   "outputs": [],
   "source": [
    "new_test = new_test.assign(first_segment = first_segment.dif1)\n",
    "new_test = new_test.assign(second_segment = second_segment.dif1)\n",
    "new_test = new_test.assign(third_segment = third_segment.dif1)\n",
    "new_test = new_test.assign(fourth_segment = fourth_segment.dif1)"
   ]
  },
  {
   "cell_type": "code",
   "execution_count": null,
   "metadata": {},
   "outputs": [],
   "source": [
    "sns.distplot(new_test[(new_test.particle_type == 0) & (new_test.dif1 > 0)]['MatchedHit_X[0]'], kde=False, rug=True)\n",
    "sns.distplot(new_test[(new_test.particle_type == 1) & (new_test.dif1 > 0)]['MatchedHit_X[0]'], kde=False, rug=True)\n",
    "sns.distplot(new_test[(new_test.particle_type == 2) & (new_test.dif1 > 0)]['MatchedHit_X[0]'], kde=False, rug=True);"
   ]
  },
  {
   "cell_type": "code",
   "execution_count": null,
   "metadata": {},
   "outputs": [],
   "source": [
    "new_test[(new_test.particle_type == 0) & (new_test.dif1 > 0)].count()"
   ]
  },
  {
   "cell_type": "code",
   "execution_count": null,
   "metadata": {},
   "outputs": [],
   "source": [
    "new_test[(new_test.particle_type == 2) & (new_test.dif1 == 0)].count()"
   ]
  },
  {
   "cell_type": "code",
   "execution_count": null,
   "metadata": {},
   "outputs": [],
   "source": [
    "new_test[(new_test.particle_type == 1) & (new_test.dif1 < 0)].count()"
   ]
  },
  {
   "cell_type": "code",
   "execution_count": null,
   "metadata": {},
   "outputs": [],
   "source": [
    "new_test[(new_test.particle_type == 1) & (new_test.dif1 > 0)].count()"
   ]
  },
  {
   "cell_type": "code",
   "execution_count": null,
   "metadata": {},
   "outputs": [],
   "source": [
    "new_test[(new_test.particle_type == 2) & (new_test.dif1 < 0)].count()"
   ]
  },
  {
   "cell_type": "code",
   "execution_count": null,
   "metadata": {},
   "outputs": [],
   "source": [
    "new_test[(new_test.particle_type == 2) & (new_test.dif1 > 0)].count()"
   ]
  },
  {
   "cell_type": "code",
   "execution_count": null,
   "metadata": {},
   "outputs": [],
   "source": [
    "new_test[new_test.particle_type == 2].dif1.mean()"
   ]
  },
  {
   "cell_type": "code",
   "execution_count": null,
   "metadata": {},
   "outputs": [],
   "source": [
    "y0 = []\n",
    "y1 = []\n",
    "for i in range(len(test)):\n",
    "    y0.append(0)\n",
    "    y1.append(1)\n",
    "\n",
    "plt.plot(test['MatchedHit_X[0]'], y0, color = 'r')\n",
    "plt.plot(test['MatchedHit_X[1]'], y1, color = 'g');"
   ]
  },
  {
   "cell_type": "code",
   "execution_count": null,
   "metadata": {},
   "outputs": [],
   "source": [
    "a = new_test[new_test.particle_type == 1].speed1.mean()"
   ]
  },
  {
   "cell_type": "code",
   "execution_count": null,
   "metadata": {},
   "outputs": [],
   "source": [
    "b = new_test[new_test.particle_type == 1].speed2.mean()"
   ]
  },
  {
   "cell_type": "code",
   "execution_count": null,
   "metadata": {},
   "outputs": [],
   "source": [
    "c = new_test[new_test.particle_type == 1].speed3.mean()"
   ]
  },
  {
   "cell_type": "code",
   "execution_count": null,
   "metadata": {},
   "outputs": [],
   "source": [
    "a = new_test[new_test.particle_type == 0].speed1.mean()\n",
    "b = new_test[new_test.particle_type == 0].speed2.mean()\n",
    "c = new_test[new_test.particle_type == 0].speed3.mean()\n",
    "\n",
    "a1 = new_test[new_test.particle_type == 1].speed1.mean()\n",
    "b1 = new_test[new_test.particle_type == 1].speed2.mean()\n",
    "c1 = new_test[new_test.particle_type == 1].speed3.mean()\n",
    "\n",
    "a2 = new_test[new_test.particle_type == 2].speed1.mean()\n",
    "b2 = new_test[new_test.particle_type == 2].speed2.mean()\n",
    "c2 = new_test[new_test.particle_type == 2].speed3.mean()\n",
    "\n",
    "plt.plot([0,1,2],[a,b,c])\n",
    "plt.plot([0,1,2],[a1,b1,c1])\n",
    "plt.plot([0,1,2],[a2,b2,c2])"
   ]
  },
  {
   "cell_type": "code",
   "execution_count": null,
   "metadata": {},
   "outputs": [],
   "source": [
    "#test.info()"
   ]
  },
  {
   "cell_type": "code",
   "execution_count": null,
   "metadata": {},
   "outputs": [],
   "source": [
    "from sklearn.model_selection import train_test_split\n",
    "y = test.label\n",
    "test.drop(['FOI_hits_X','FOI_hits_Y','FOI_hits_Z','FOI_hits_DX','FOI_hits_DY','FOI_hits_DZ','FOI_hits_T','FOI_hits_DT','FOI_hits_S'], axis = 1, inplace = True)\n",
    "#withDif = new_test[['particle_type','first_segment','second_segment','third_segment','fourth_segment']]\n",
    "#withDif = withDif.dropna(how = 'any', axis = 1)\n",
    "X_train, X_test, y_train, y_test = train_test_split(test, y, test_size=0.3, random_state=42)"
   ]
  },
  {
   "cell_type": "code",
   "execution_count": null,
   "metadata": {},
   "outputs": [],
   "source": [
    "clf = RandomForestClassifier(n_estimators=100, max_depth=8, random_state=0, n_jobs = -1, criterion = 'entropy', min_samples_split = 2, min_samples_leaf = 4, max_features = 8)\n",
    "clf.fit(X_train, y_train)\n",
    "print(clf.score(X_train, y_train))"
   ]
  },
  {
   "cell_type": "code",
   "execution_count": null,
   "metadata": {},
   "outputs": [],
   "source": [
    "rejection90(y_train, clf.predict(X_train))"
   ]
  },
  {
   "cell_type": "code",
   "execution_count": null,
   "metadata": {},
   "outputs": [],
   "source": [
    "clf.score(X_test, y_test)"
   ]
  },
  {
   "cell_type": "code",
   "execution_count": null,
   "metadata": {},
   "outputs": [],
   "source": [
    "from sklearn.tree import DecisionTreeClassifier\n",
    "#clf = DecisionTreeClassifier(random_state=0)\n",
    "#clf.fit(X_train, y_train)"
   ]
  },
  {
   "cell_type": "code",
   "execution_count": null,
   "metadata": {},
   "outputs": [],
   "source": [
    "clf.score(X_test, y_test)"
   ]
  },
  {
   "cell_type": "code",
   "execution_count": null,
   "metadata": {},
   "outputs": [],
   "source": [
    "from sklearn.ensemble import RandomForestClassifier\n",
    "rfc = RandomForestClassifier(n_estimators=100, max_depth=5,random_state=0)\n",
    "rfc.fit(X_train, y_train)"
   ]
  },
  {
   "cell_type": "code",
   "execution_count": null,
   "metadata": {},
   "outputs": [],
   "source": [
    "rfc.score(X_test, y_test)"
   ]
  },
  {
   "cell_type": "code",
   "execution_count": null,
   "metadata": {},
   "outputs": [],
   "source": [
    "dd_0 = dd[dd.particle_type == 0]\n",
    "dd_1 = dd[dd.particle_type == 1]\n",
    "dd_2 = dd[dd.particle_type == 2] "
   ]
  },
  {
   "cell_type": "code",
   "execution_count": null,
   "metadata": {},
   "outputs": [],
   "source": [
    "dd.head()"
   ]
  },
  {
   "cell_type": "code",
   "execution_count": null,
   "metadata": {},
   "outputs": [],
   "source": [
    "%%time\n",
    "pion = df[df.particle_type == 0]\n",
    "plt.plot(pion['Lextra_X[3]'], pion['Lextra_Y[3]'], 'o')"
   ]
  },
  {
   "cell_type": "code",
   "execution_count": null,
   "metadata": {},
   "outputs": [],
   "source": [
    "%%time\n",
    "muon = df[df.particle_type == 1]\n",
    "plt.plot(muon['Lextra_X[3]'], muon['Lextra_Y[3]'], 'o')"
   ]
  },
  {
   "cell_type": "code",
   "execution_count": null,
   "metadata": {},
   "outputs": [],
   "source": [
    "len(muon)"
   ]
  },
  {
   "cell_type": "code",
   "execution_count": null,
   "metadata": {},
   "outputs": [],
   "source": [
    "df[['weight', 'sWeight', 'kinWeight']].corr()"
   ]
  },
  {
   "cell_type": "code",
   "execution_count": null,
   "metadata": {},
   "outputs": [],
   "source": [
    "#df[['Lextra_X[0]', 'Mextra_DX2[0]', 'MatchedHit_TYPE[0]', 'MatchedHit_X[0]', 'MatchedHit_DX[0]']]"
   ]
  },
  {
   "cell_type": "code",
   "execution_count": null,
   "metadata": {},
   "outputs": [],
   "source": [
    "uncrossed = df[df['MatchedHit_TYPE[3]'] == 2]\n",
    "for i in range(0,4):\n",
    "    print(uncrossed[['MatchedHit_X[{}]'.format(i), 'Lextra_X[{}]'.format(i)]].corr())"
   ]
  },
  {
   "cell_type": "code",
   "execution_count": null,
   "metadata": {},
   "outputs": [],
   "source": [
    "crossed0 = df[df['MatchedHit_TYPE[0]'] == 2]\n",
    "uncrossed1 = crossed0[crossed0['MatchedHit_TYPE[1]'] == 1]\n",
    "print(len(crossed0) / len(uncrossed1))"
   ]
  },
  {
   "cell_type": "code",
   "execution_count": null,
   "metadata": {},
   "outputs": [],
   "source": [
    "len(uncrossed1) / len(crossed0) "
   ]
  },
  {
   "cell_type": "code",
   "execution_count": null,
   "metadata": {},
   "outputs": [],
   "source": [
    "for i in range(1,4):\n",
    "    print(len(crossed0[crossed0['MatchedHit_TYPE[{}]'.format(i)] == 1]))"
   ]
  },
  {
   "cell_type": "code",
   "execution_count": null,
   "metadata": {},
   "outputs": [],
   "source": [
    "fig, axes = plt.subplots(nrows=1, ncols=4, figsize=(16, 10))\n",
    "#распределение времени на каждую пластинку\n",
    "\n",
    "for row, i in zip(axes, range(0,4)):\n",
    "    row.hist(df['MatchedHit_T[{}]'.format(i)].value_counts())"
   ]
  },
  {
   "cell_type": "code",
   "execution_count": null,
   "metadata": {},
   "outputs": [],
   "source": [
    "#df['MatchedHit_Z[3]'].value_counts()"
   ]
  },
  {
   "cell_type": "code",
   "execution_count": null,
   "metadata": {
    "scrolled": true
   },
   "outputs": [],
   "source": [
    "# распределение координат по xyz и по пластинам\n",
    "fig, axes = plt.subplots(nrows=4, ncols=3, figsize=(16, 10))\n",
    "axis = ['X', 'Y', 'Z']\n",
    "#df1 = df[abs(df['MatchedHit_X[0]']) < 200]\n",
    "muon = df1[df1.label == 1]\n",
    "back = df1[df1.label == 0]\n",
    "\n",
    "for row, i in zip(axes, range(0,4)):\n",
    "    for col,ax in zip(row, axis):\n",
    "        col.hist(muon['MatchedHit_{}[{}]'.format(ax, i)], color = 'g')\n",
    "        col.hist(back['MatchedHit_{}[{}]'.format(ax, i)], color = 'r', alpha = 0.5)\n",
    "\n",
    "        \n"
   ]
  },
  {
   "cell_type": "code",
   "execution_count": null,
   "metadata": {},
   "outputs": [],
   "source": [
    "#df['MatchedHit_X[0]']\n",
    "df.label.value_counts()"
   ]
  },
  {
   "cell_type": "code",
   "execution_count": null,
   "metadata": {},
   "outputs": [],
   "source": [
    "# среднее при непересеченных и переесеченных\n",
    "import itertools\n",
    "mean_uncrossed = []\n",
    "mean_crossed = []\n",
    "\n",
    "for hit_type, n_station in itertools.product([1,2], [0,1,2,3]):\n",
    "    mean = df[df['MatchedHit_TYPE[{}]'.format(n_station)] == hit_type]['MatchedHit_DX[{}]'.format(n_station)].mean()\n",
    "    if hit_type == 1:\n",
    "        mean_uncrossed.append(mean)\n",
    "    else:\n",
    "        mean_crossed.append(mean)\n",
    "    print('station {} hit_type {} mean {}'.format(n_station, hit_type, mean))\n",
    "    "
   ]
  },
  {
   "cell_type": "code",
   "execution_count": null,
   "metadata": {},
   "outputs": [],
   "source": [
    "plt.plot(range(0,4), mean_uncrossed, label = 'непересеченные')\n",
    "plt.plot(range(0,4), mean_crossed, color = 'r', label = 'пересеченные')\n",
    "plt.legend();"
   ]
  },
  {
   "cell_type": "code",
   "execution_count": null,
   "metadata": {},
   "outputs": [],
   "source": [
    "df[['MatchedHit_T[0]','MatchedHit_T[1]','MatchedHit_T[2]','MatchedHit_T[3]','MatchedHit_DT[0]','MatchedHit_DT[1]','MatchedHit_DT[2]','MatchedHit_DT[3]']] "
   ]
  },
  {
   "cell_type": "code",
   "execution_count": null,
   "metadata": {},
   "outputs": [],
   "source": [
    "for i in [0,1,2]:\n",
    "    cr = df[(df['MatchedHit_TYPE[0]'] == 1) & (df['particle_type'] == i)]\n",
    "    un = df[(df['MatchedHit_TYPE[0]'] == 2) & (df['particle_type'] == i)]\n",
    "    print('среднее непересеченное {} для {}'.format(cr['FOI_hits_N'].mean(), i))\n",
    "    print('среднее пересеченное {} для {}'.format(un['FOI_hits_N'].mean(), i))"
   ]
  },
  {
   "cell_type": "code",
   "execution_count": null,
   "metadata": {},
   "outputs": [],
   "source": [
    "df['FOI_hits_X'][21]"
   ]
  },
  {
   "cell_type": "code",
   "execution_count": null,
   "metadata": {},
   "outputs": [],
   "source": [
    "df['FOI_hits_S'][21]"
   ]
  },
  {
   "cell_type": "code",
   "execution_count": null,
   "metadata": {},
   "outputs": [],
   "source": [
    "df['FOI_hits_N'][21]"
   ]
  },
  {
   "cell_type": "code",
   "execution_count": null,
   "metadata": {},
   "outputs": [],
   "source": [
    "df[['MatchedHit_X[0]', 'MatchedHit_X[1]', 'MatchedHit_X[2]', 'MatchedHit_X[3]']].head(1)"
   ]
  },
  {
   "cell_type": "code",
   "execution_count": null,
   "metadata": {},
   "outputs": [],
   "source": [
    "df['FOI_hits_DX'][21]"
   ]
  },
  {
   "cell_type": "code",
   "execution_count": null,
   "metadata": {},
   "outputs": [],
   "source": [
    "#df[['MatchedHit_X[0]', 'MatchedHit_X[1]', 'MatchedHit_X[2]', 'MatchedHit_X[3]']]\n"
   ]
  },
  {
   "cell_type": "code",
   "execution_count": null,
   "metadata": {},
   "outputs": [],
   "source": [
    "#df[['ncl[0]', 'avg_cs[0]']]"
   ]
  },
  {
   "cell_type": "code",
   "execution_count": null,
   "metadata": {},
   "outputs": [],
   "source": [
    "pion = df2[df2['particle_type'] == 0]\n",
    "muon = df2[df2['particle_type'] == 1]\n",
    "proton = df2[df2['particle_type'] == 2]"
   ]
  },
  {
   "cell_type": "code",
   "execution_count": null,
   "metadata": {},
   "outputs": [],
   "source": [
    "print('pion {} muon {} proton {}'.format(pion.PT.mean(), muon.PT.mean(), proton.PT.mean()))"
   ]
  },
  {
   "cell_type": "code",
   "execution_count": null,
   "metadata": {},
   "outputs": [],
   "source": [
    "plt.hist(pion.PT)\n",
    "plt.hist(muon.PT, color = 'r', alpha = 0.5)\n",
    "plt.hist(proton.PT, color = 'g');"
   ]
  },
  {
   "cell_type": "code",
   "execution_count": null,
   "metadata": {},
   "outputs": [],
   "source": [
    "muon['MatchedHit_X[3]'].count()"
   ]
  },
  {
   "cell_type": "code",
   "execution_count": null,
   "metadata": {},
   "outputs": [],
   "source": [
    "pion['MatchedHit_X[3]'].count()"
   ]
  },
  {
   "cell_type": "code",
   "execution_count": null,
   "metadata": {},
   "outputs": [],
   "source": [
    "proton['MatchedHit_X[3]'].count()"
   ]
  },
  {
   "cell_type": "code",
   "execution_count": null,
   "metadata": {},
   "outputs": [],
   "source": [
    "muon[muon['MatchedHit_X[3]'] != -9999].id.count()"
   ]
  },
  {
   "cell_type": "code",
   "execution_count": null,
   "metadata": {},
   "outputs": [],
   "source": []
  }
 ],
 "metadata": {
  "kernelspec": {
   "display_name": "Python 3",
   "language": "python",
   "name": "python3"
  },
  "language_info": {
   "codemirror_mode": {
    "name": "ipython",
    "version": 3
   },
   "file_extension": ".py",
   "mimetype": "text/x-python",
   "name": "python",
   "nbconvert_exporter": "python",
   "pygments_lexer": "ipython3",
   "version": "3.6.7"
  }
 },
 "nbformat": 4,
 "nbformat_minor": 2
}
